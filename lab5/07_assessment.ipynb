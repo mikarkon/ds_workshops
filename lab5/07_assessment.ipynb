{
 "cells": [
  {
   "cell_type": "markdown",
   "metadata": {},
   "source": [
    "<center><a href=\"https://www.nvidia.com/dli\"> <img src=\"images/DLI_Header.png\" alt=\"Header\" style=\"width: 400px;\"/> </a></center>"
   ]
  },
  {
   "cell_type": "markdown",
   "metadata": {},
   "source": [
    "# Assessment"
   ]
  },
  {
   "cell_type": "markdown",
   "metadata": {},
   "source": [
    "Congratulations on going through today's course! Hopefully, you've learned some valuable skills along the way and had fun doing it. Now it's time to put those skills to the test. In this assessment, you will train a new model that is able to recognize fresh and rotten fruit. You will need to get the model to a validation accuracy of `92%` in order to pass the assessment, though we challenge you to do even better if you can. You will have the use the skills that you learned in the previous exercises. Specifically, we suggest using some combination of transfer learning, data augmentation, and fine tuning. Once you have trained the model to be at least 92% accurate on the validation dataset, save your model, and then assess its accuracy. Let's get started! "
   ]
  },
  {
   "cell_type": "markdown",
   "metadata": {},
   "source": [
    "## The Dataset"
   ]
  },
  {
   "cell_type": "markdown",
   "metadata": {},
   "source": [
    "In this exercise, you will train a model to recognize fresh and rotten fruits. The dataset comes from [Kaggle](https://www.kaggle.com/sriramr/fruits-fresh-and-rotten-for-classification), a great place to go if you're interested in starting a project after this class. The dataset structure is in the `data/fruits` folder. There are 6 categories of fruits: fresh apples, fresh oranges, fresh bananas, rotten apples, rotten oranges, and rotten bananas. This will mean that your model will require an output layer of 6 neurons to do the categorization successfully. You'll also need to compile the model with `categorical_crossentropy`, as we have more than two categories."
   ]
  },
  {
   "cell_type": "markdown",
   "metadata": {},
   "source": [
    "<img src=\"./images/fruits.png\" style=\"width: 600px;\">"
   ]
  },
  {
   "cell_type": "markdown",
   "metadata": {},
   "source": [
    "## Load ImageNet Base Model"
   ]
  },
  {
   "cell_type": "markdown",
   "metadata": {},
   "source": [
    "We encourage you to start with a model pretrained on ImageNet. Load the model with the correct weights, set an input shape, and choose to remove the last layers of the model. Remember that images have three dimensions: a height, and width, and a number of channels. Because these pictures are in color, there will be three channels for red, green, and blue. We've filled in the input shape for you. This cannot be changed or the assessment will fail. If you need a reference for setting up the pretrained model, please take a look at [notebook 05b](05b_presidential_doggy_door.ipynb) where we implemented transfer learning."
   ]
  },
  {
   "cell_type": "code",
   "execution_count": 2,
   "metadata": {},
   "outputs": [],
   "source": [
    "from tensorflow import keras\n",
    "\n",
    "base_model = keras.applications.VGG16(\n",
    "    weights='imagenet',\n",
    "    input_shape=(224, 224, 3),\n",
    "    include_top=False)"
   ]
  },
  {
   "cell_type": "markdown",
   "metadata": {},
   "source": [
    "## Freeze Base Model"
   ]
  },
  {
   "cell_type": "markdown",
   "metadata": {},
   "source": [
    "Next, we suggest freezing the base model, as done in [notebook 05b](05b_presidential_doggy_door.ipynb). This is done so that all the learning from the ImageNet dataset does not get destroyed in the initial training."
   ]
  },
  {
   "cell_type": "code",
   "execution_count": 3,
   "metadata": {},
   "outputs": [],
   "source": [
    "# Freeze base model\n",
    "base_model.trainable = False"
   ]
  },
  {
   "cell_type": "markdown",
   "metadata": {},
   "source": [
    "## Add Layers to Model"
   ]
  },
  {
   "cell_type": "markdown",
   "metadata": {},
   "source": [
    "Now it's time to add layers to the pretrained model. [Notebook 05b](05b_presidential_doggy_door.ipynb) can be used as a guide. Pay close attention to the last dense layer and make sure it has the correct number of neurons to classify the different types of fruit."
   ]
  },
  {
   "cell_type": "code",
   "execution_count": 7,
   "metadata": {},
   "outputs": [],
   "source": [
    "# Create inputs with correct shape\n",
    "inputs = keras.Input(shape=(224, 224, 3))\n",
    "\n",
    "x = base_model(inputs, training=False)\n",
    "\n",
    "# Add pooling layer or flatten layer\n",
    "x = keras.layers.GlobalAveragePooling2D()(x)\n",
    "\n",
    "# Add final dense layer\n",
    "outputs = keras.layers.Dense(6, activation = 'softmax')(x)\n",
    "\n",
    "# Combine inputs and outputs to create model\n",
    "model = keras.Model(inputs, outputs)"
   ]
  },
  {
   "cell_type": "code",
   "execution_count": 8,
   "metadata": {},
   "outputs": [
    {
     "name": "stdout",
     "output_type": "stream",
     "text": [
      "Model: \"model_1\"\n",
      "_________________________________________________________________\n",
      "Layer (type)                 Output Shape              Param #   \n",
      "=================================================================\n",
      "input_4 (InputLayer)         [(None, 224, 224, 3)]     0         \n",
      "_________________________________________________________________\n",
      "vgg16 (Model)                (None, 7, 7, 512)         14714688  \n",
      "_________________________________________________________________\n",
      "global_average_pooling2d_2 ( (None, 512)               0         \n",
      "_________________________________________________________________\n",
      "dense_1 (Dense)              (None, 6)                 3078      \n",
      "=================================================================\n",
      "Total params: 14,717,766\n",
      "Trainable params: 3,078\n",
      "Non-trainable params: 14,714,688\n",
      "_________________________________________________________________\n"
     ]
    }
   ],
   "source": [
    "model.summary()"
   ]
  },
  {
   "cell_type": "markdown",
   "metadata": {},
   "source": [
    "## Compile Model"
   ]
  },
  {
   "cell_type": "markdown",
   "metadata": {},
   "source": [
    "Now it's time to compile the model with loss and metrics options. Remember that we're training on a number of different categories, rather than a binary classification problem."
   ]
  },
  {
   "cell_type": "code",
   "execution_count": 9,
   "metadata": {},
   "outputs": [],
   "source": [
    "model.compile(loss='categorical_crossentropy', metrics=['accuracy'])"
   ]
  },
  {
   "cell_type": "markdown",
   "metadata": {},
   "source": [
    "## Augment the Data"
   ]
  },
  {
   "cell_type": "markdown",
   "metadata": {},
   "source": [
    "If you'd like, try to augment the data to improve the dataset. Feel free to look at [notebook 04a](04a_asl_augmentation.ipynb) and [notebook 05b](05b_presidential_doggy_door.ipynb) for augmentation examples. There is also documentation for the [Keras ImageDataGenerator class](https://keras.io/api/preprocessing/image/#imagedatagenerator-class). This step is optional, but it may be helpful to get to 92% accuracy."
   ]
  },
  {
   "cell_type": "code",
   "execution_count": 11,
   "metadata": {},
   "outputs": [],
   "source": [
    "from tensorflow.keras.preprocessing.image import ImageDataGenerator\n",
    "\n",
    "datagen_train = ImageDataGenerator(\n",
    "    rotation_range=10,  # randomly rotate images in the range (degrees, 0 to 180)\n",
    "    zoom_range=0.1,  # Randomly zoom image\n",
    "    width_shift_range=0.1,  # randomly shift images horizontally (fraction of total width)\n",
    "    height_shift_range=0.1,  # randomly shift images vertically (fraction of total height)\n",
    "    horizontal_flip=True,  # randomly flip images horizontally\n",
    "    vertical_flip=False, # Don't randomly flip images vertically\n",
    ")  \n",
    "datagen_valid = ImageDataGenerator(samplewise_center=True)"
   ]
  },
  {
   "cell_type": "markdown",
   "metadata": {},
   "source": [
    "## Load Dataset"
   ]
  },
  {
   "cell_type": "markdown",
   "metadata": {},
   "source": [
    "Now it's time to load the train and validation datasets. Pick the right folders, as well as the right `target_size` of the images (it needs to match the height and width input of the model you've created). For a reference, check out [notebook 05b](05b_presidential_doggy_door.ipynb)."
   ]
  },
  {
   "cell_type": "code",
   "execution_count": 12,
   "metadata": {},
   "outputs": [
    {
     "name": "stdout",
     "output_type": "stream",
     "text": [
      "Found 1182 images belonging to 6 classes.\n",
      "Found 329 images belonging to 6 classes.\n"
     ]
    }
   ],
   "source": [
    "# load and iterate training dataset\n",
    "train_it = datagen_train.flow_from_directory(\n",
    "    \"data/fruits/train\",\n",
    "    target_size=(224, 224),\n",
    "    color_mode=\"rgb\",\n",
    "    class_mode=\"categorical\",\n",
    ")\n",
    "# load and iterate validation dataset\n",
    "valid_it = datagen_valid.flow_from_directory(\n",
    "    \"data/fruits/valid\",\n",
    "    target_size=(224, 224),\n",
    "    color_mode=\"rgb\",\n",
    "    class_mode=\"categorical\",\n",
    ")"
   ]
  },
  {
   "cell_type": "markdown",
   "metadata": {},
   "source": [
    "## Train the Model"
   ]
  },
  {
   "cell_type": "markdown",
   "metadata": {},
   "source": [
    "Time to train the model! Pass the `train` and `valid` iterators into the `fit` function, as well as setting the desired number of epochs."
   ]
  },
  {
   "cell_type": "code",
   "execution_count": 14,
   "metadata": {},
   "outputs": [
    {
     "name": "stdout",
     "output_type": "stream",
     "text": [
      "Epoch 1/20\n",
      "37/36 [==============================] - 28s 759ms/step - loss: 2.8418 - accuracy: 0.4518 - val_loss: 2.4937 - val_accuracy: 0.4863\n",
      "Epoch 2/20\n",
      "37/36 [==============================] - 17s 469ms/step - loss: 0.8856 - accuracy: 0.7496 - val_loss: 1.5394 - val_accuracy: 0.6717\n",
      "Epoch 3/20\n",
      "37/36 [==============================] - 17s 472ms/step - loss: 0.4550 - accuracy: 0.8723 - val_loss: 1.1748 - val_accuracy: 0.7325\n",
      "Epoch 4/20\n",
      "37/36 [==============================] - 17s 472ms/step - loss: 0.3113 - accuracy: 0.8951 - val_loss: 1.1116 - val_accuracy: 0.7690\n",
      "Epoch 5/20\n",
      "37/36 [==============================] - 17s 466ms/step - loss: 0.1809 - accuracy: 0.9365 - val_loss: 0.9544 - val_accuracy: 0.7933\n",
      "Epoch 6/20\n",
      "37/36 [==============================] - 17s 466ms/step - loss: 0.1402 - accuracy: 0.9526 - val_loss: 1.1400 - val_accuracy: 0.7538\n",
      "Epoch 7/20\n",
      "37/36 [==============================] - 17s 462ms/step - loss: 0.1298 - accuracy: 0.9577 - val_loss: 0.7174 - val_accuracy: 0.8207\n",
      "Epoch 8/20\n",
      "37/36 [==============================] - 17s 464ms/step - loss: 0.1016 - accuracy: 0.9628 - val_loss: 0.9692 - val_accuracy: 0.8207\n",
      "Epoch 9/20\n",
      "37/36 [==============================] - 17s 467ms/step - loss: 0.0713 - accuracy: 0.9738 - val_loss: 0.8683 - val_accuracy: 0.8085\n",
      "Epoch 10/20\n",
      "37/36 [==============================] - 17s 465ms/step - loss: 0.0711 - accuracy: 0.9721 - val_loss: 0.5574 - val_accuracy: 0.8723\n",
      "Epoch 11/20\n",
      "37/36 [==============================] - 17s 459ms/step - loss: 0.0588 - accuracy: 0.9763 - val_loss: 0.5761 - val_accuracy: 0.8571\n",
      "Epoch 12/20\n",
      "37/36 [==============================] - 17s 462ms/step - loss: 0.0570 - accuracy: 0.9839 - val_loss: 0.5278 - val_accuracy: 0.8784\n",
      "Epoch 13/20\n",
      "37/36 [==============================] - 17s 462ms/step - loss: 0.0453 - accuracy: 0.9865 - val_loss: 0.4059 - val_accuracy: 0.9027\n",
      "Epoch 14/20\n",
      "37/36 [==============================] - 17s 463ms/step - loss: 0.0383 - accuracy: 0.9865 - val_loss: 0.5463 - val_accuracy: 0.8723\n",
      "Epoch 15/20\n",
      "37/36 [==============================] - 17s 463ms/step - loss: 0.0343 - accuracy: 0.9890 - val_loss: 0.5633 - val_accuracy: 0.8693\n",
      "Epoch 16/20\n",
      "37/36 [==============================] - 17s 465ms/step - loss: 0.0326 - accuracy: 0.9898 - val_loss: 0.5358 - val_accuracy: 0.8754\n",
      "Epoch 17/20\n",
      "37/36 [==============================] - 17s 465ms/step - loss: 0.0359 - accuracy: 0.9856 - val_loss: 0.4419 - val_accuracy: 0.8784\n",
      "Epoch 18/20\n",
      "37/36 [==============================] - 17s 463ms/step - loss: 0.0301 - accuracy: 0.9907 - val_loss: 0.5385 - val_accuracy: 0.8967\n",
      "Epoch 19/20\n",
      "37/36 [==============================] - 17s 461ms/step - loss: 0.0264 - accuracy: 0.9915 - val_loss: 0.4518 - val_accuracy: 0.8815\n",
      "Epoch 20/20\n",
      "37/36 [==============================] - 17s 458ms/step - loss: 0.0247 - accuracy: 0.9882 - val_loss: 0.4372 - val_accuracy: 0.9058\n"
     ]
    },
    {
     "data": {
      "text/plain": [
       "<tensorflow.python.keras.callbacks.History at 0x7fe10757c8d0>"
      ]
     },
     "execution_count": 14,
     "metadata": {},
     "output_type": "execute_result"
    }
   ],
   "source": [
    "model.fit(train_it,\n",
    "          validation_data=valid_it,\n",
    "          steps_per_epoch=train_it.samples/train_it.batch_size,\n",
    "          validation_steps=valid_it.samples/valid_it.batch_size,\n",
    "          epochs=20)"
   ]
  },
  {
   "cell_type": "markdown",
   "metadata": {},
   "source": [
    "## Unfreeze Model for Fine Tuning"
   ]
  },
  {
   "cell_type": "markdown",
   "metadata": {},
   "source": [
    "If you have reached 92% validation accuracy already, this next step is optional. If not, we suggest fine tuning the model with a very low learning rate."
   ]
  },
  {
   "cell_type": "code",
   "execution_count": 15,
   "metadata": {},
   "outputs": [],
   "source": [
    "# Unfreeze the base model\n",
    "base_model.trainable = True\n",
    "\n",
    "# Compile the model with a low learning rate\n",
    "model.compile(optimizer=keras.optimizers.RMSprop(learning_rate = .00001),\n",
    "               loss=keras.losses.BinaryCrossentropy(from_logits=True),\n",
    "              metrics=[keras.metrics.BinaryAccuracy()])"
   ]
  },
  {
   "cell_type": "code",
   "execution_count": 17,
   "metadata": {},
   "outputs": [
    {
     "name": "stdout",
     "output_type": "stream",
     "text": [
      "Epoch 1/10\n",
      "37/36 [==============================] - 28s 751ms/step - loss: 0.6357 - binary_accuracy: 0.9886 - val_loss: 0.6584 - val_binary_accuracy: 0.9402\n",
      "Epoch 2/10\n",
      "37/36 [==============================] - 21s 571ms/step - loss: 0.6331 - binary_accuracy: 0.9929 - val_loss: 0.6394 - val_binary_accuracy: 0.9818\n",
      "Epoch 3/10\n",
      "37/36 [==============================] - 19s 503ms/step - loss: 0.6320 - binary_accuracy: 0.9955 - val_loss: 0.6377 - val_binary_accuracy: 0.9843\n",
      "Epoch 4/10\n",
      "37/36 [==============================] - 18s 496ms/step - loss: 0.6317 - binary_accuracy: 0.9965 - val_loss: 0.6423 - val_binary_accuracy: 0.9742\n",
      "Epoch 5/10\n",
      "37/36 [==============================] - 19s 507ms/step - loss: 0.6314 - binary_accuracy: 0.9969 - val_loss: 0.6398 - val_binary_accuracy: 0.9828\n",
      "Epoch 6/10\n",
      "37/36 [==============================] - 19s 505ms/step - loss: 0.6324 - binary_accuracy: 0.9952 - val_loss: 0.6361 - val_binary_accuracy: 0.9889\n",
      "Epoch 7/10\n",
      "37/36 [==============================] - 18s 489ms/step - loss: 0.6310 - binary_accuracy: 0.9980 - val_loss: 0.6561 - val_binary_accuracy: 0.9473\n",
      "Epoch 8/10\n",
      "37/36 [==============================] - 18s 499ms/step - loss: 0.6305 - binary_accuracy: 0.9989 - val_loss: 0.6500 - val_binary_accuracy: 0.9605\n",
      "Epoch 9/10\n",
      "37/36 [==============================] - 18s 494ms/step - loss: 0.6305 - binary_accuracy: 0.9989 - val_loss: 0.6356 - val_binary_accuracy: 0.9878\n",
      "Epoch 10/10\n",
      "37/36 [==============================] - 18s 489ms/step - loss: 0.6316 - binary_accuracy: 0.9963 - val_loss: 0.6366 - val_binary_accuracy: 0.9858\n"
     ]
    },
    {
     "data": {
      "text/plain": [
       "<tensorflow.python.keras.callbacks.History at 0x7fe0f2273e80>"
      ]
     },
     "execution_count": 17,
     "metadata": {},
     "output_type": "execute_result"
    }
   ],
   "source": [
    "model.fit(train_it,\n",
    "          validation_data=valid_it,\n",
    "          steps_per_epoch=train_it.samples/train_it.batch_size,\n",
    "          validation_steps=valid_it.samples/valid_it.batch_size,\n",
    "          epochs=10)"
   ]
  },
  {
   "cell_type": "markdown",
   "metadata": {},
   "source": [
    "## Evaluate the Model"
   ]
  },
  {
   "cell_type": "markdown",
   "metadata": {},
   "source": [
    "Hopefully, you now have a model that has a validation accuracy of 92% or higher. If not, you may want to go back and either run more epochs of training, or adjust your data augmentation. \n",
    "\n",
    "Once you are satisfied with the validation accuracy, evaluate the model by executing the following cell. The evaluate function will return a tuple, where the first value is your loss, and the second value is your accuracy. To pass, the model will need have an accuracy value of `92% or higher`. "
   ]
  },
  {
   "cell_type": "code",
   "execution_count": 18,
   "metadata": {},
   "outputs": [
    {
     "name": "stdout",
     "output_type": "stream",
     "text": [
      "11/10 [================================] - 2s 140ms/step - loss: 0.6368 - binary_accuracy: 0.9848\n"
     ]
    },
    {
     "data": {
      "text/plain": [
       "[0.6367799043655396, 0.9848024249076843]"
      ]
     },
     "execution_count": 18,
     "metadata": {},
     "output_type": "execute_result"
    }
   ],
   "source": [
    "model.evaluate(valid_it, steps=valid_it.samples/valid_it.batch_size)"
   ]
  },
  {
   "cell_type": "markdown",
   "metadata": {},
   "source": [
    "## Run the Assessment"
   ]
  },
  {
   "cell_type": "markdown",
   "metadata": {},
   "source": [
    "To assess your model run the following two cells.\n",
    "\n",
    "**NOTE:** `run_assessment` assumes your model is named `model` and your validation data iterator is called `valid_it`. If for any reason you have modified these variable names, please update the names of the arguments passed to `run_assessment`."
   ]
  },
  {
   "cell_type": "code",
   "execution_count": 19,
   "metadata": {},
   "outputs": [],
   "source": [
    "from run_assessment import run_assessment"
   ]
  },
  {
   "cell_type": "code",
   "execution_count": 20,
   "metadata": {},
   "outputs": [
    {
     "name": "stdout",
     "output_type": "stream",
     "text": [
      "Evaluating model 5 times to obtain average accuracy...\n",
      "\n",
      "11/10 [================================] - 2s 139ms/step - loss: 0.6383 - binary_accuracy: 0.9818\n",
      "11/10 [================================] - 2s 144ms/step - loss: 0.6370 - binary_accuracy: 0.9848\n",
      "11/10 [================================] - 1s 130ms/step - loss: 0.6370 - binary_accuracy: 0.9848\n",
      "11/10 [================================] - 2s 141ms/step - loss: 0.6366 - binary_accuracy: 0.9858\n",
      "11/10 [================================] - 2s 137ms/step - loss: 0.6386 - binary_accuracy: 0.9807\n",
      "\n",
      "Accuracy required to pass the assessment is 0.92 or greater.\n",
      "Your average accuracy is 0.9836.\n",
      "\n",
      "Congratulations! You passed the assessment!\n",
      "See instructions below to generate a certificate.\n"
     ]
    }
   ],
   "source": [
    "run_assessment(model, valid_it)"
   ]
  },
  {
   "cell_type": "markdown",
   "metadata": {},
   "source": [
    "## Generate a Certificate"
   ]
  },
  {
   "cell_type": "markdown",
   "metadata": {},
   "source": [
    "If you passed the assessment, please return to the course page (shown below) and click the \"ASSESS TASK\" button, which will generate your certificate for the course."
   ]
  },
  {
   "cell_type": "markdown",
   "metadata": {},
   "source": [
    "<img src=\"./images/assess_task.png\" style=\"width: 800px;\">"
   ]
  },
  {
   "cell_type": "markdown",
   "metadata": {},
   "source": [
    "<center><a href=\"https://www.nvidia.com/dli\"> <img src=\"images/DLI_Header.png\" alt=\"Header\" style=\"width: 400px;\"/> </a></center>"
   ]
  }
 ],
 "metadata": {
  "kernelspec": {
   "display_name": "Python 3",
   "language": "python",
   "name": "python3"
  },
  "language_info": {
   "codemirror_mode": {
    "name": "ipython",
    "version": 3
   },
   "file_extension": ".py",
   "mimetype": "text/x-python",
   "name": "python",
   "nbconvert_exporter": "python",
   "pygments_lexer": "ipython3",
   "version": "3.6.9"
  }
 },
 "nbformat": 4,
 "nbformat_minor": 4
}
